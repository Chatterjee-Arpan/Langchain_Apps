{
 "cells": [
  {
   "cell_type": "code",
   "execution_count": 2,
   "id": "074316b6",
   "metadata": {},
   "outputs": [
    {
     "name": "stderr",
     "output_type": "stream",
     "text": [
      "c:\\Users\\chatt\\Documents\\Data_Analysis\\Machine Learning\\LangChain\\Quiz_App\\quiz_env\\Lib\\site-packages\\tqdm\\auto.py:21: TqdmWarning: IProgress not found. Please update jupyter and ipywidgets. See https://ipywidgets.readthedocs.io/en/stable/user_install.html\n",
      "  from .autonotebook import tqdm as notebook_tqdm\n"
     ]
    }
   ],
   "source": [
    "from langchain.vectorstores.cassandra import Cassandra\n",
    "from langchain.indexes.vectorstore import VectorStoreIndexWrapper\n",
    "from langchain_openai import ChatOpenAI\n",
    "from langchain_openai import OpenAIEmbeddings\n",
    "\n",
    "from datasets import load_dataset\n",
    "\n",
    "import cassio"
   ]
  },
  {
   "cell_type": "code",
   "execution_count": 3,
   "id": "d3d63acd",
   "metadata": {},
   "outputs": [],
   "source": [
    "from PyPDF2 import PdfReader"
   ]
  },
  {
   "cell_type": "code",
   "execution_count": 4,
   "id": "3fa0d493",
   "metadata": {},
   "outputs": [],
   "source": [
    "import os\n",
    "from dotenv import load_dotenv\n",
    "\n",
    "load_dotenv()\n",
    "openai_key = os.getenv(\"OPENAI_API_KEY\")\n",
    "os.environ[\"OPENAI_API_KEY\"] = openai_key\n",
    "\n",
    "astra_token = os.getenv(\"ASTRA_DB_APPLICATION_TOKEN\")\n",
    "os.environ[\"ASTRA_DB_APPLICATION_TOKEN\"] = astra_token\n",
    "\n",
    "astra_db_id = os.getenv(\"ASTRA_DB_ID\")\n",
    "os.environ[\"ASTRA_DB_ID\"] = astra_db_id"
   ]
  },
  {
   "cell_type": "code",
   "execution_count": 5,
   "id": "51f4fff4",
   "metadata": {},
   "outputs": [],
   "source": [
    "pdfreader = PdfReader(\"The Guide to Larry Niven's Ringworld.pdf\")"
   ]
  },
  {
   "cell_type": "code",
   "execution_count": 6,
   "id": "48e545c5",
   "metadata": {},
   "outputs": [],
   "source": [
    "from typing_extensions import Concatenate\n",
    "# reading the pdf\n",
    "raw_text = ''\n",
    "for i,page in enumerate(pdfreader.pages):\n",
    "    content = page.extract_text()\n",
    "    if content:\n",
    "        raw_text += content"
   ]
  },
  {
   "cell_type": "markdown",
   "id": "f02a0708",
   "metadata": {},
   "source": [
    "### Connecting the database"
   ]
  },
  {
   "cell_type": "code",
   "execution_count": 8,
   "id": "e1ccb3c7",
   "metadata": {},
   "outputs": [],
   "source": [
    "cassio.init(token=astra_token, database_id=astra_db_id)"
   ]
  },
  {
   "cell_type": "markdown",
   "id": "0661bd6d",
   "metadata": {},
   "source": [
    "### Creating OpenAI embeddings"
   ]
  },
  {
   "cell_type": "code",
   "execution_count": 9,
   "id": "0d1fd0a3",
   "metadata": {},
   "outputs": [],
   "source": [
    "llm = ChatOpenAI(model=\"gpt-3.5-turbo\", temperature=0.7)\n",
    "embeddings = OpenAIEmbeddings()"
   ]
  },
  {
   "cell_type": "code",
   "execution_count": 10,
   "id": "11d91904",
   "metadata": {},
   "outputs": [],
   "source": [
    "astra_vector_store = Cassandra(\n",
    "    embedding=embeddings,\n",
    "    table_name=\"qa_mini\",\n",
    "    session= None,\n",
    "    keyspace= None\n",
    ")"
   ]
  },
  {
   "cell_type": "code",
   "execution_count": 11,
   "id": "21b4b936",
   "metadata": {},
   "outputs": [],
   "source": [
    "from langchain.text_splitter import CharacterTextSplitter\n",
    "\n",
    "text_splitter = CharacterTextSplitter(\n",
    "    separator=\"\\n\",\n",
    "    chunk_size=800,\n",
    "    chunk_overlap=200,\n",
    "    length_function=len\n",
    ")\n",
    "\n",
    "texts = text_splitter.split_text(raw_text)"
   ]
  },
  {
   "cell_type": "markdown",
   "id": "fe343726",
   "metadata": {},
   "source": [
    "## Converting the texts into embeddings by pushing it into the vector store"
   ]
  },
  {
   "cell_type": "code",
   "execution_count": 13,
   "id": "eefad2d1",
   "metadata": {},
   "outputs": [
    {
     "name": "stdout",
     "output_type": "stream",
     "text": [
      "Inserted 100 headlines.\n"
     ]
    }
   ],
   "source": [
    "astra_vector_store.add_texts(texts[100:200])\n",
    "\n",
    "print (\"Inserted %i headlines.\" %len(texts[100:200]))\n",
    "\n",
    "astra_vector_index = VectorStoreIndexWrapper(vectorstore=astra_vector_store)"
   ]
  },
  {
   "cell_type": "markdown",
   "id": "ebbbb5c7",
   "metadata": {},
   "source": [
    "### Q&A cycle"
   ]
  },
  {
   "cell_type": "code",
   "execution_count": 14,
   "id": "8c10b035",
   "metadata": {},
   "outputs": [
    {
     "name": "stdout",
     "output_type": "stream",
     "text": [
      "\n",
      "Question: \"What is Ringworld?\"\n",
      "ANSWER: \"Ringworld is a science fiction novel by Larry Niven set in Known Space, a universe in which humanity shares the galaxy with other alien species. In the story, a group of beings embark on a manned expedition to the Ringworld, a massive artificial ring-shaped structure surrounding a star. The Ringworld itself was abandoned and reduced to barbarism by a plague, but the expedition is sent to explore it for potential treasures and discoveries. The novel explores themes of exploration, alien civilizations, and the mysteries of the Ringworld itself.\"\n",
      "\n",
      "First Documents by Relevance:\n",
      " [0.9249] \"Ringworld was abandoned. The Experimentalists regained power \n",
      "under the threat of Kzinti expansion a......\"\n",
      " [0.9240] \"ominous crimson sphere, 200 meters in diameter with ugly traces of \n",
      "black and silver. The captain's ......\"\n",
      " [0.9152] \"The Guide to Lurry Niven's Ringworld Major Races of Known Space y//\\ \n",
      "Trj gm |K /Jft ® V/ -<42m4 \n",
      "fc......\"\n",
      " [0.9098] \"from the galactic core. \n",
      "Shaeffer discovered that the core had undergone a cataclys¬ \n",
      "mic explosion,......\"\n",
      "\n",
      "Question: \"What is known space?\"\n",
      "ANSWER: \"Known Space is a term used in the science fiction works of Larry Niven to refer to the region of space where various alien species and civilizations exist and interact. It includes planets, star systems, and regions that have been explored and colonized by these races. It is a setting for many of Niven's stories, including the Ringworld series.\"\n",
      "\n",
      "First Documents by Relevance:\n",
      " [0.9134] \"Known Space and the areas once controlled by the Thrint, espe¬ \n",
      "cially previous Slaver food planets ......\"\n",
      " [0.9043] \"from the galactic core. \n",
      "Shaeffer discovered that the core had undergone a cataclys¬ \n",
      "mic explosion,......\"\n",
      " [0.9013] \"signed than planned. \n",
      "Major Races of Known Space The Guide to Larry Niven's Ringworld Or so it is sa......\"\n",
      " [0.8986] \"the Outsiders, the Puppeteers have the most advanced science in \n",
      "Known Space. The General Products C......\"\n",
      "\n",
      "Question: \"What are the different races in Ringworld?\"\n",
      "ANSWER: \"The different races in Ringworld are the Kzinti, Puppeteers, and the Pak.\"\n",
      "\n",
      "First Documents by Relevance:\n",
      " [0.9233] \"Ringworld was abandoned. The Experimentalists regained power \n",
      "under the threat of Kzinti expansion a......\"\n",
      " [0.9229] \"The Guide to Lurry Niven's Ringworld Major Races of Known Space y//\\ \n",
      "Trj gm |K /Jft ® V/ -<42m4 \n",
      "fc......\"\n",
      " [0.9172] \"made them infinitely more maneuverable than the fusion ramships \n",
      "and had the occasional effect of te......\"\n",
      " [0.9149] \"maintain their rule longer than the Experimentalists, who are usually \n",
      "deposed once they have acted ......\"\n"
     ]
    }
   ],
   "source": [
    "first_question = True\n",
    "while True:\n",
    "    if first_question:\n",
    "        query_text = input(\"\\nEnter your question about Ringworld (or type 'quit' to exit): \").strip()\n",
    "    else:\n",
    "        query_text = input(\"\\nAsk another question to know more (or type 'quit' to exit): \").strip()\n",
    "\n",
    "    if query_text.lower() == 'quit':\n",
    "        break\n",
    "\n",
    "    if query_text == \"\":\n",
    "        continue\n",
    "\n",
    "    first_question = False\n",
    "\n",
    "    # Process the query using the vector index\n",
    "    print(\"\\nQuestion: \\\"%s\\\"\" % query_text)\n",
    "    answer = astra_vector_index.query(query_text, llm=llm).strip()\n",
    "    print(\"ANSWER: \\\"%s\\\"\\n\" % answer)\n",
    "\n",
    "    print(\"First Documents by Relevance:\")\n",
    "    for doc, score in astra_vector_store.similarity_search_with_score(query_text, k=4):\n",
    "        print(\" [%0.4f] \\\"%s......\\\"\" %(score, doc.page_content[:100]))\n"
   ]
  }
 ],
 "metadata": {
  "kernelspec": {
   "display_name": "quiz_env (3.11.0)",
   "language": "python",
   "name": "python3"
  },
  "language_info": {
   "codemirror_mode": {
    "name": "ipython",
    "version": 3
   },
   "file_extension": ".py",
   "mimetype": "text/x-python",
   "name": "python",
   "nbconvert_exporter": "python",
   "pygments_lexer": "ipython3",
   "version": "3.11.0"
  }
 },
 "nbformat": 4,
 "nbformat_minor": 5
}
